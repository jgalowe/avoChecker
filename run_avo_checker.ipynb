{
 "cells": [
  {
   "cell_type": "code",
   "execution_count": 1,
   "id": "ce2d0150",
   "metadata": {},
   "outputs": [
    {
     "name": "stderr",
     "output_type": "stream",
     "text": [
      "C:\\Users\\johnl\\AppData\\Local\\Temp\\ipykernel_2376\\1336455791.py:6: DeprecationWarning: 'imghdr' is deprecated and slated for removal in Python 3.13\n",
      "  import imghdr\n"
     ]
    }
   ],
   "source": [
    "#load libraries and the classification model\n",
    "\n",
    "import tensorflow as tf\n",
    "import os\n",
    "import cv2\n",
    "import imghdr\n",
    "import numpy as np\n",
    "from matplotlib import pyplot as plt\n",
    "import shutil\n",
    "from PIL import Image\n",
    "from tensorflow.keras.models import load_model\n",
    "model = load_model('avo_model.keras')\n",
    "from ultralytics import YOLO\n"
   ]
  },
  {
   "cell_type": "markdown",
   "id": "3f321982",
   "metadata": {},
   "source": [
    "First we run the yolo model to identify the kind of avo. Since we can only predict Hass, maybe I need something to account for this. \n",
    "\n",
    "Next we move these images into a separate checking folder. This is to make the rest of the code sustainable and work across all devices consistently. This will move all the Hass crops into a separate checking folder (or shepards at a later date, may need an if else or something) and then delete the runs folder to avoid having the future cops go into 'predict2' and then having to keep track of the number of predicts."
   ]
  },
  {
   "cell_type": "code",
   "execution_count": 12,
   "id": "c673464b",
   "metadata": {},
   "outputs": [
    {
     "name": "stdout",
     "output_type": "stream",
     "text": [
      "\n",
      "image 1/9 c:\\Users\\johnl\\Documents\\GitHub\\avoChecker\\Pictures\\1034A\\IMG-20250517-WA0022.jpg: 640x512 1 Hass, 50.2ms\n",
      "image 2/9 c:\\Users\\johnl\\Documents\\GitHub\\avoChecker\\Pictures\\1034A\\IMG-20250517-WA0023.jpg: 640x512 1 Hass, 9.6ms\n",
      "image 3/9 c:\\Users\\johnl\\Documents\\GitHub\\avoChecker\\Pictures\\1034A\\IMG-20250517-WA0024.jpg: 640x512 1 Hass, 9.4ms\n",
      "image 4/9 c:\\Users\\johnl\\Documents\\GitHub\\avoChecker\\Pictures\\1034A\\IMG-20250517-WA0025.jpg: 640x512 1 Hass, 9.9ms\n",
      "image 5/9 c:\\Users\\johnl\\Documents\\GitHub\\avoChecker\\Pictures\\1034A\\IMG-20250517-WA0026.jpg: 640x512 1 Hass, 9.7ms\n",
      "image 6/9 c:\\Users\\johnl\\Documents\\GitHub\\avoChecker\\Pictures\\1034A\\IMG-20250517-WA0027.jpg: 640x512 1 Hass, 9.6ms\n",
      "image 7/9 c:\\Users\\johnl\\Documents\\GitHub\\avoChecker\\Pictures\\1034A\\IMG-20250517-WA0028.jpg: 640x512 1 Hass, 9.7ms\n",
      "image 8/9 c:\\Users\\johnl\\Documents\\GitHub\\avoChecker\\Pictures\\1034A\\IMG-20250517-WA0029.jpg: 640x512 1 Hass, 10.0ms\n",
      "image 9/9 c:\\Users\\johnl\\Documents\\GitHub\\avoChecker\\Pictures\\1034A\\WhatsApp Image 2025-05-17 at 13.44.15_3a0767ba.jpg: 640x512 1 Hass, 9.6ms\n",
      "Speed: 2.1ms preprocess, 14.2ms inference, 1.6ms postprocess per image at shape (1, 3, 640, 512)\n",
      "Results saved to \u001b[1mruns\\detect\\predict\u001b[0m\n"
     ]
    }
   ],
   "source": [
    "model_yolo = YOLO(\"avoID.pt\")\n",
    "\n",
    "model_yolo.predict(\n",
    "        source='Pictures/1034A',\n",
    "        save_crop=True,\n",
    "        save=True,\n",
    "        conf=0.5\n",
    "    )\n",
    "#!yolo predict model=avoID.pt source='Pictures/1020' conf = 0.5 save_crop=True save\n",
    "shutil.move('runs/detect/predict/crops/Hass','checking_folder/') #need to add a line if there are no hass' detected\n",
    "shutil.rmtree('runs/')"
   ]
  },
  {
   "cell_type": "markdown",
   "id": "e2b22b51",
   "metadata": {},
   "source": [
    "The next steps: \n",
    "1) Define a function to resize the images inputed\n",
    "2) open checking_folder and store the names of each file in a list\n",
    "3) loop through that list and resize each image\n",
    "4) run the image through the algo and save the score\n",
    "5) get an average of the final score as the score for the avos"
   ]
  },
  {
   "cell_type": "code",
   "execution_count": 13,
   "id": "7bb6da23",
   "metadata": {},
   "outputs": [
    {
     "data": {
      "text/plain": [
       "2.4809017181396484"
      ]
     },
     "execution_count": 13,
     "metadata": {},
     "output_type": "execute_result"
    }
   ],
   "source": [
    "##Lite model testing\n",
    "\n",
    "##Ok this works well and is a little faster\n",
    "\n",
    "def prepare_input(image_path, target_size=(256, 256)):\n",
    "    img = Image.open(image_path).resize(target_size)\n",
    "    img_array = np.array(img, dtype=np.float32) / 255.0\n",
    "    img_array = np.expand_dims(img_array, axis=0)\n",
    "    return img_array\n",
    "\n",
    "model_lite = tf.lite.Interpreter(model_path=\"avo_model.tflite\")\n",
    "model_lite.allocate_tensors()\n",
    "input_details = model_lite.get_input_details()\n",
    "output_details = model_lite.get_output_details()\n",
    "\n",
    "def predict_tflite(input_data):\n",
    "    model_lite.set_tensor(input_details[0]['index'], input_data)\n",
    "    model_lite.invoke()\n",
    "    return model_lite.get_tensor(output_details[0]['index'])\n",
    "\n",
    "avo_pics = os.listdir('checking_folder/')\n",
    "\n",
    "avo_score = [] #empty list to store the avo score\n",
    "\n",
    "#Loop through all the pics in the folder to get the individual predictions for each avo\n",
    "for pic in avo_pics:\n",
    "    avo = prepare_input('checking_folder/' + pic)\n",
    "    avo_score.append(predict_tflite(avo))\n",
    "\n",
    "shutil.rmtree('checking_folder/') #delete the checking_folder to ensure we can use exactly the same code in the futur\n",
    "\n",
    "avo_score = np.concatenate(avo_score, axis=0 )\n",
    "avo_score.mean()/2"
   ]
  }
 ],
 "metadata": {
  "kernelspec": {
   "display_name": "Python 3",
   "language": "python",
   "name": "python3"
  },
  "language_info": {
   "codemirror_mode": {
    "name": "ipython",
    "version": 3
   },
   "file_extension": ".py",
   "mimetype": "text/x-python",
   "name": "python",
   "nbconvert_exporter": "python",
   "pygments_lexer": "ipython3",
   "version": "3.12.9"
  }
 },
 "nbformat": 4,
 "nbformat_minor": 5
}

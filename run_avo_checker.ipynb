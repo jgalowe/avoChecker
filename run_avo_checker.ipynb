{
 "cells": [
  {
   "cell_type": "code",
   "execution_count": 1,
   "id": "ce2d0150",
   "metadata": {},
   "outputs": [
    {
     "name": "stderr",
     "output_type": "stream",
     "text": [
      "C:\\Users\\johnl\\AppData\\Local\\Temp\\ipykernel_9388\\1336455791.py:6: DeprecationWarning: 'imghdr' is deprecated and slated for removal in Python 3.13\n",
      "  import imghdr\n"
     ]
    }
   ],
   "source": [
    "#load libraries and the classification model\n",
    "\n",
    "import tensorflow as tf\n",
    "import os\n",
    "import cv2\n",
    "import imghdr\n",
    "import numpy as np\n",
    "from matplotlib import pyplot as plt\n",
    "import shutil\n",
    "from PIL import Image\n",
    "from tensorflow.keras.models import load_model\n",
    "model = load_model('avo_model.keras')\n",
    "from ultralytics import YOLO\n"
   ]
  },
  {
   "cell_type": "markdown",
   "id": "3f321982",
   "metadata": {},
   "source": [
    "First we run the yolo model to identify the kind of avo. Since we can only predict Hass, maybe I need something to account for this. \n",
    "\n",
    "Next we move these images into a separate checking folder. This is to make the rest of the code sustainable and work across all devices consistently. This will move all the Hass crops into a separate checking folder (or shepards at a later date, may need an if else or something) and then delete the runs folder to avoid having the future cops go into 'predict2' and then having to keep track of the number of predicts."
   ]
  },
  {
   "cell_type": "code",
   "execution_count": 4,
   "id": "c673464b",
   "metadata": {},
   "outputs": [
    {
     "name": "stdout",
     "output_type": "stream",
     "text": [
      "\n",
      "image 1/1 c:\\Users\\johnl\\Documents\\GitHub\\avoChecker\\WhatsApp Image 2025-05-06 at 8.29.14 PM.jpeg: 640x480 1 Hass, 60.5ms\n",
      "Speed: 6.9ms preprocess, 60.5ms inference, 2.3ms postprocess per image at shape (1, 3, 640, 480)\n",
      "Results saved to \u001b[1mruns\\detect\\predict\u001b[0m\n"
     ]
    }
   ],
   "source": [
    "model_yolo = YOLO(\"avoID.pt\")\n",
    "\n",
    "model_yolo.predict(\n",
    "        source='WhatsApp Image 2025-05-06 at 8.29.14 PM.jpeg',\n",
    "        save_crop=True,\n",
    "        save=True,\n",
    "        conf=0.5\n",
    "    )\n",
    "#!yolo predict model=avoID.pt source='Pictures/1020' conf = 0.5 save_crop=True save\n",
    "shutil.move('runs/detect/predict/crops/Hass','checking_folder/') #need to add a line if there are no hass' detected\n",
    "shutil.rmtree('runs/')"
   ]
  },
  {
   "cell_type": "markdown",
   "id": "e2b22b51",
   "metadata": {},
   "source": [
    "The next steps: \n",
    "1) Define a function to resize the images inputed\n",
    "2) open checking_folder and store the names of each file in a list\n",
    "3) loop through that list and resize each image\n",
    "4) run the image through the algo and save the score\n",
    "5) get an average of the final score as the score for the avos"
   ]
  },
  {
   "cell_type": "code",
   "execution_count": 3,
   "id": "77550121",
   "metadata": {},
   "outputs": [
    {
     "name": "stdout",
     "output_type": "stream",
     "text": [
      "\u001b[1m1/1\u001b[0m \u001b[32m━━━━━━━━━━━━━━━━━━━━\u001b[0m\u001b[37m\u001b[0m \u001b[1m0s\u001b[0m 296ms/step\n",
      "\u001b[1m1/1\u001b[0m \u001b[32m━━━━━━━━━━━━━━━━━━━━\u001b[0m\u001b[37m\u001b[0m \u001b[1m0s\u001b[0m 60ms/step\n",
      "\u001b[1m1/1\u001b[0m \u001b[32m━━━━━━━━━━━━━━━━━━━━\u001b[0m\u001b[37m\u001b[0m \u001b[1m0s\u001b[0m 58ms/step\n",
      "\u001b[1m1/1\u001b[0m \u001b[32m━━━━━━━━━━━━━━━━━━━━\u001b[0m\u001b[37m\u001b[0m \u001b[1m0s\u001b[0m 61ms/step\n",
      "\u001b[1m1/1\u001b[0m \u001b[32m━━━━━━━━━━━━━━━━━━━━\u001b[0m\u001b[37m\u001b[0m \u001b[1m0s\u001b[0m 58ms/step\n",
      "\u001b[1m1/1\u001b[0m \u001b[32m━━━━━━━━━━━━━━━━━━━━\u001b[0m\u001b[37m\u001b[0m \u001b[1m0s\u001b[0m 59ms/step\n",
      "\u001b[1m1/1\u001b[0m \u001b[32m━━━━━━━━━━━━━━━━━━━━\u001b[0m\u001b[37m\u001b[0m \u001b[1m0s\u001b[0m 61ms/step\n",
      "\u001b[1m1/1\u001b[0m \u001b[32m━━━━━━━━━━━━━━━━━━━━\u001b[0m\u001b[37m\u001b[0m \u001b[1m0s\u001b[0m 55ms/step\n",
      "\u001b[1m1/1\u001b[0m \u001b[32m━━━━━━━━━━━━━━━━━━━━\u001b[0m\u001b[37m\u001b[0m \u001b[1m0s\u001b[0m 55ms/step\n"
     ]
    },
    {
     "data": {
      "text/plain": [
       "3.6865675"
      ]
     },
     "execution_count": 3,
     "metadata": {},
     "output_type": "execute_result"
    }
   ],
   "source": [
    "#This is to resize the image prior to running it through the model\n",
    "def prepare_input(image_path, target_size=(256, 256)): #adjust target size to match model input.\n",
    "    img = Image.open(image_path).resize(target_size)\n",
    "    img_array = np.array(img) / 255.0  # Normalize pixel values\n",
    "    img_array = np.expand_dims(img_array, axis=0) # Add batch dimension\n",
    "    return img_array\n",
    "\n",
    "avo_pics = os.listdir('checking_folder/')\n",
    "\n",
    "avo_score = [] #empty list to store the avo score\n",
    "\n",
    "#Loop through all the pics in the folder to get the individual predictions for each avo\n",
    "for pic in avo_pics:\n",
    "    avo = prepare_input('checking_folder/' + pic)\n",
    "    avo_score.append(model.predict(avo))\n",
    "\n",
    "shutil.rmtree('checking_folder/') #delete the checking_folder to ensure we can use exactly the same code in the futur\n",
    "\n",
    "avo_score = np.concatenate(avo_score, axis=0 )\n",
    "avo_score.mean()"
   ]
  },
  {
   "cell_type": "code",
   "execution_count": 3,
   "id": "6483431e",
   "metadata": {},
   "outputs": [
    {
     "name": "stdout",
     "output_type": "stream",
     "text": [
      "WhatsApp Image 2025-05-06 at 8.29.14 PM\n"
     ]
    }
   ],
   "source": [
    "from pathlib import Path\n",
    "file_name = \"WhatsApp Image 2025-05-06 at 8.29.14 PM.jpeg\"\n",
    "name = Path(file_name).stem\n",
    "print(name) "
   ]
  }
 ],
 "metadata": {
  "kernelspec": {
   "display_name": "Python 3",
   "language": "python",
   "name": "python3"
  },
  "language_info": {
   "codemirror_mode": {
    "name": "ipython",
    "version": 3
   },
   "file_extension": ".py",
   "mimetype": "text/x-python",
   "name": "python",
   "nbconvert_exporter": "python",
   "pygments_lexer": "ipython3",
   "version": "3.12.9"
  }
 },
 "nbformat": 4,
 "nbformat_minor": 5
}
